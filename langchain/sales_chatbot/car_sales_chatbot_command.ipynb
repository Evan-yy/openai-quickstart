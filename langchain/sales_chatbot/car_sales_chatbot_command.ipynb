{
 "cells": [
  {
   "cell_type": "code",
   "execution_count": 4,
   "id": "61a9180e-21fb-4be6-a625-303b896705c9",
   "metadata": {},
   "outputs": [],
   "source": [
    "with open(\"real_estate_sales_data.txt\",encoding='utf-8') as f:\n",
    "    real_estate_sales = f.read()"
   ]
  },
  {
   "cell_type": "code",
   "execution_count": 7,
   "id": "e3379649-8152-4386-853a-37f28ddbdf40",
   "metadata": {},
   "outputs": [
    {
     "data": {
      "text/plain": [
       "Document(page_content='[客户问题]\\n这款车的油耗高吗？\\n[销售回答]\\n这款车采用了最新的节能技术，市区油耗和高速油耗都非常经济，非常适合日常使用。')"
      ]
     },
     "execution_count": 7,
     "metadata": {},
     "output_type": "execute_result"
    }
   ],
   "source": [
    "from langchain.text_splitter import CharacterTextSplitter\n",
    "text_splitter = CharacterTextSplitter(        \n",
    "    separator = r'\\d+\\.',\n",
    "    chunk_size = 100,\n",
    "    chunk_overlap  = 0,\n",
    "    length_function = len,\n",
    "    is_separator_regex = True,\n",
    ")\n",
    "docs = text_splitter.create_documents([real_estate_sales])\n",
    "docs[0]\n"
   ]
  },
  {
   "cell_type": "code",
   "execution_count": null,
   "id": "95a16194-df03-44b3-964b-571698f42cb9",
   "metadata": {},
   "outputs": [],
   "source": [
    "from langchain.embeddings.openai import OpenAIEmbeddings\n",
    "from langchain.text_splitter import CharacterTextSplitter\n",
    "from langchain.vectorstores import FAISS\n",
    "\n",
    "db = FAISS.from_documents(docs, OpenAIEmbeddings())"
   ]
  },
  {
   "cell_type": "code",
   "execution_count": null,
   "id": "b36679e7-3220-4af9-a554-ae3c9b710092",
   "metadata": {},
   "outputs": [],
   "source": []
  }
 ],
 "metadata": {
  "kernelspec": {
   "display_name": "Python 3 (ipykernel)",
   "language": "python",
   "name": "python3"
  },
  "language_info": {
   "codemirror_mode": {
    "name": "ipython",
    "version": 3
   },
   "file_extension": ".py",
   "mimetype": "text/x-python",
   "name": "python",
   "nbconvert_exporter": "python",
   "pygments_lexer": "ipython3",
   "version": "3.10.14"
  }
 },
 "nbformat": 4,
 "nbformat_minor": 5
}
